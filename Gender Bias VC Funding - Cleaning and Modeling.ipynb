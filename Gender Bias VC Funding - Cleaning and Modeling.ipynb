{
 "cells": [
  {
   "cell_type": "code",
   "execution_count": 1,
   "metadata": {},
   "outputs": [],
   "source": [
    "### Load relevant packages\n",
    "import pandas                  as pd\n",
    "import numpy                   as np\n",
    "import matplotlib.pyplot       as plt\n",
    "import seaborn                 as sns\n",
    "import statsmodels.formula.api as sm\n",
    "import os\n",
    "import random\n",
    "\n",
    "%matplotlib inline\n",
    "plt.style.use('ggplot')"
   ]
  },
  {
   "cell_type": "code",
   "execution_count": null,
   "metadata": {},
   "outputs": [],
   "source": [
    "## Creating Data Frame\n",
    "df = pd.read_csv(\"data/US Crunchbase Companies (2).csv\")"
   ]
  },
  {
   "cell_type": "code",
   "execution_count": null,
   "metadata": {},
   "outputs": [],
   "source": [
    "## Dataframe of companies that are women-founded/led\n",
    "df_women = df[df['Diversity Spotlight (US Only)'].astype(str).str.contains(\"Women\")]\n",
    "df_women"
   ]
  },
  {
   "cell_type": "code",
   "execution_count": null,
   "metadata": {},
   "outputs": [],
   "source": [
    "len(df_women)"
   ]
  },
  {
   "cell_type": "code",
   "execution_count": null,
   "metadata": {},
   "outputs": [],
   "source": [
    "## Percentage of women-founded companies \n",
    "len(df_women)/len(df)"
   ]
  },
  {
   "cell_type": "markdown",
   "metadata": {},
   "source": [
    "5.52% of companies are women-founded or women-led"
   ]
  },
  {
   "cell_type": "code",
   "execution_count": null,
   "metadata": {
    "scrolled": true
   },
   "outputs": [],
   "source": [
    "df_women.columns.values"
   ]
  },
  {
   "cell_type": "code",
   "execution_count": null,
   "metadata": {},
   "outputs": [],
   "source": [
    "## Women businesses are only involved in 18% industries so it's not a good factor to take into account\n",
    "## Qualitative interviews with founders and investors validated this assumption it was advised to use another variable\n",
    "## for modeling purposes\n",
    "\n",
    "len(df_women['Industry Groups'].unique())\n",
    "len(df['Industry Groups'].unique())\n",
    "len(df_women['Industry Groups'].unique())/len(df['Industry Groups'].unique())"
   ]
  },
  {
   "cell_type": "code",
   "execution_count": null,
   "metadata": {},
   "outputs": [],
   "source": [
    "## Cleaning data frame to only include columns needed for the model\n",
    "## Variables were determined by conducting qualitative interviews\n",
    "df_women = df_women[['Total Funding Amount', 'Estimated Revenue Range', 'Number of Investments','Number of Exits (IPO)']]\n",
    "df_women"
   ]
  },
  {
   "cell_type": "code",
   "execution_count": null,
   "metadata": {},
   "outputs": [],
   "source": [
    "df_women.dtypes"
   ]
  },
  {
   "cell_type": "code",
   "execution_count": null,
   "metadata": {},
   "outputs": [],
   "source": [
    "df_women['Estimated Revenue Range'].unique()"
   ]
  },
  {
   "cell_type": "code",
   "execution_count": null,
   "metadata": {},
   "outputs": [],
   "source": [
    "## Changing column names to what needs to be determined\n",
    "## The model will look at specific aspects of the columns\n",
    "\n",
    "## Estimated Revenue will be treated as a binary variable where:\n",
    "## 1 if revenue estimation >= 1\n",
    "## 0 otherwise\n",
    "\n",
    "## Number of Investments if greater than 1 means that the company most likely\n",
    "## has a network built which gives them a greater chance of getting funded\n",
    "\n",
    "## Number of IPO exits shows the founders have experience in reaching the IPO \n",
    "## stage which increases their chances of getting a funding because of both the \n",
    "## experience of getting their business to that level and of building a repo with investors\n",
    "\n",
    "## Total Funding Amount is our target variable and in order for the decision tree classifier\n",
    "## to be able to predict the result, this will not be included later in the df"
   ]
  },
  {
   "cell_type": "code",
   "execution_count": null,
   "metadata": {},
   "outputs": [],
   "source": [
    "## Renaming columns\n",
    "\n",
    "df_women = df_women.rename(columns = {\"Estimated Revenue Range\": \"Estimated Revenue >= 1M\",\n",
    "                                             \"Number of Investments\": \"Number of Investments >= 1\",\n",
    "                                             \"Number of Exits (IPO)\": \"Number of Exits (IPO) >= 1\"})\n",
    "df_women"
   ]
  },
  {
   "cell_type": "code",
   "execution_count": null,
   "metadata": {
    "scrolled": true
   },
   "outputs": [],
   "source": [
    "## Changing Estimated Revenue column to binary. \n",
    "## 1 is >=1, 0 otherwise\n",
    "\n",
    "df_women.loc[(df_women['Estimated Revenue >= 1M'] == 'Less than $1M'),'Estimated Revenue >= 1M']=0\n",
    "df_women.loc[~(df_women['Estimated Revenue >= 1M'] == 0),'Estimated Revenue >= 1M']=1\n",
    "df_women"
   ]
  },
  {
   "cell_type": "code",
   "execution_count": null,
   "metadata": {},
   "outputs": [],
   "source": [
    "## We have a lot of missing values in our df and simply taking the average of the values\n",
    "## would misinterpret the data"
   ]
  },
  {
   "cell_type": "code",
   "execution_count": null,
   "metadata": {},
   "outputs": [],
   "source": [
    "## assign Total Funding Amount as the target variable and divide the data set into\n",
    "## target and input variables\n",
    "\n",
    "target = df_women['Total Funding Amount']\n",
    "df_women_inputs = df_women.drop('Total Funding Amount',axis='columns')\n",
    "\n",
    "df_women_inputs"
   ]
  },
  {
   "cell_type": "code",
   "execution_count": null,
   "metadata": {},
   "outputs": [],
   "source": [
    "target.dtypes"
   ]
  },
  {
   "cell_type": "code",
   "execution_count": null,
   "metadata": {},
   "outputs": [],
   "source": [
    "## need to convert everything to numbers for the model\n",
    "df_women_inputs = df_women_inputs.astype(float)\n",
    "\n",
    "print(df_women_inputs.dtypes)"
   ]
  },
  {
   "cell_type": "code",
   "execution_count": null,
   "metadata": {},
   "outputs": [],
   "source": [
    "## Filling in the missing values\n",
    "df_women_inputs.isna().sum()"
   ]
  },
  {
   "cell_type": "code",
   "execution_count": null,
   "metadata": {},
   "outputs": [],
   "source": [
    "## KNN Imputation\n",
    "## Split data into training and testing data\n",
    "from sklearn.impute import KNNImputer\n",
    "from sklearn.model_selection import train_test_split\n",
    "\n",
    "X_train = df_women_inputs\n",
    "y_train = target\n",
    "\n",
    "X_train, X_test, y_train, y_test = train_test_split(X,y,test_size = 0.3)\n",
    "\n",
    "knn = KNNImputer(n_neighbors=5,add_indicator=True)\n",
    "knn.fit(X_train)\n",
    "X_train_imputed = pd.DataFrame(knn.transform(X_train))"
   ]
  },
  {
   "cell_type": "code",
   "execution_count": null,
   "metadata": {},
   "outputs": [],
   "source": []
  }
 ],
 "metadata": {
  "kernelspec": {
   "display_name": "Python 3",
   "language": "python",
   "name": "python3"
  },
  "language_info": {
   "codemirror_mode": {
    "name": "ipython",
    "version": 3
   },
   "file_extension": ".py",
   "mimetype": "text/x-python",
   "name": "python",
   "nbconvert_exporter": "python",
   "pygments_lexer": "ipython3",
   "version": "3.8.3"
  }
 },
 "nbformat": 4,
 "nbformat_minor": 4
}
